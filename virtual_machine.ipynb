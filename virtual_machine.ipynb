{
  "nbformat": 4,
  "nbformat_minor": 0,
  "metadata": {
    "colab": {
      "provenance": [],
      "authorship_tag": "ABX9TyOyiAkYaIrl9tUnGJetpXjz",
      "include_colab_link": true
    },
    "kernelspec": {
      "name": "python3",
      "display_name": "Python 3"
    },
    "language_info": {
      "name": "python"
    }
  },
  "cells": [
    {
      "cell_type": "markdown",
      "metadata": {
        "id": "view-in-github",
        "colab_type": "text"
      },
      "source": [
        "<a href=\"https://colab.research.google.com/github/wallef809/aula-rapida-github/blob/main/virtual_machine.ipynb\" target=\"_parent\"><img src=\"https://colab.research.google.com/assets/colab-badge.svg\" alt=\"Open In Colab\"/></a>"
      ]
    },
    {
      "cell_type": "code",
      "execution_count": 10,
      "metadata": {
        "colab": {
          "base_uri": "https://localhost:8080/"
        },
        "id": "Z9KpracjFB8z",
        "outputId": "e0fe1e5a-34ef-4905-d8d2-c8d5beff535f"
      },
      "outputs": [
        {
          "output_type": "stream",
          "name": "stdout",
          "text": [
            "Looking in indexes: https://pypi.org/simple, https://us-python.pkg.dev/colab-wheels/public/simple/\n",
            "Requirement already satisfied: maigret in /usr/local/lib/python3.7/dist-packages (0.4.4)\n",
            "Requirement already satisfied: cloudscraper==1.2.64 in /usr/local/lib/python3.7/dist-packages (from maigret) (1.2.64)\n",
            "Requirement already satisfied: attrs==22.1.0 in /usr/local/lib/python3.7/dist-packages (from maigret) (22.1.0)\n",
            "Requirement already satisfied: requests-futures==1.0.0 in /usr/local/lib/python3.7/dist-packages (from maigret) (1.0.0)\n",
            "Requirement already satisfied: socid-extractor>=0.0.21 in /usr/local/lib/python3.7/dist-packages (from maigret) (0.0.23)\n",
            "Requirement already satisfied: soupsieve==2.3.2.post1 in /usr/local/lib/python3.7/dist-packages (from maigret) (2.3.2.post1)\n",
            "Requirement already satisfied: MarkupSafe==2.1.1 in /usr/local/lib/python3.7/dist-packages (from maigret) (2.1.1)\n",
            "Requirement already satisfied: PySocks==1.7.1 in /usr/local/lib/python3.7/dist-packages (from maigret) (1.7.1)\n",
            "Requirement already satisfied: arabic-reshaper==2.1.3 in /usr/local/lib/python3.7/dist-packages (from maigret) (2.1.3)\n",
            "Requirement already satisfied: multidict==6.0.2 in /usr/local/lib/python3.7/dist-packages (from maigret) (6.0.2)\n",
            "Requirement already satisfied: pycountry==22.3.5 in /usr/local/lib/python3.7/dist-packages (from maigret) (22.3.5)\n",
            "Requirement already satisfied: python-bidi==0.4.2 in /usr/local/lib/python3.7/dist-packages (from maigret) (0.4.2)\n",
            "Requirement already satisfied: async-timeout==4.0.2 in /usr/local/lib/python3.7/dist-packages (from maigret) (4.0.2)\n",
            "Requirement already satisfied: future-annotations==1.0.0 in /usr/local/lib/python3.7/dist-packages (from maigret) (1.0.0)\n",
            "Requirement already satisfied: html5lib==1.1 in /usr/local/lib/python3.7/dist-packages (from maigret) (1.1)\n",
            "Requirement already satisfied: idna==3.3 in /usr/local/lib/python3.7/dist-packages (from maigret) (3.3)\n",
            "Requirement already satisfied: certifi==2022.6.15 in /usr/local/lib/python3.7/dist-packages (from maigret) (2022.6.15)\n",
            "Requirement already satisfied: requests==2.28.1 in /usr/local/lib/python3.7/dist-packages (from maigret) (2.28.1)\n",
            "Requirement already satisfied: reportlab==3.6.11 in /usr/local/lib/python3.7/dist-packages (from maigret) (3.6.11)\n",
            "Requirement already satisfied: aiohttp==3.8.1 in /usr/local/lib/python3.7/dist-packages (from maigret) (3.8.1)\n",
            "Requirement already satisfied: future==0.18.2 in /usr/local/lib/python3.7/dist-packages (from maigret) (0.18.2)\n",
            "Requirement already satisfied: aiodns==3.0.0 in /usr/local/lib/python3.7/dist-packages (from maigret) (3.0.0)\n",
            "Requirement already satisfied: tqdm==4.64.1 in /usr/local/lib/python3.7/dist-packages (from maigret) (4.64.1)\n",
            "Requirement already satisfied: yarl==1.7.2 in /usr/local/lib/python3.7/dist-packages (from maigret) (1.7.2)\n",
            "Requirement already satisfied: networkx==2.5.1 in /usr/local/lib/python3.7/dist-packages (from maigret) (2.5.1)\n",
            "Requirement already satisfied: PyPDF2==2.10.4 in /usr/local/lib/python3.7/dist-packages (from maigret) (2.10.4)\n",
            "Requirement already satisfied: pyvis==0.2.1 in /usr/local/lib/python3.7/dist-packages (from maigret) (0.2.1)\n",
            "Requirement already satisfied: XMind==1.2.0 in /usr/local/lib/python3.7/dist-packages (from maigret) (1.2.0)\n",
            "Requirement already satisfied: aiohttp-socks==0.7.1 in /usr/local/lib/python3.7/dist-packages (from maigret) (0.7.1)\n",
            "Requirement already satisfied: stem==1.8.0 in /usr/local/lib/python3.7/dist-packages (from maigret) (1.8.0)\n",
            "Requirement already satisfied: chardet==5.0.0 in /usr/local/lib/python3.7/dist-packages (from maigret) (5.0.0)\n",
            "Requirement already satisfied: xhtml2pdf==0.2.8 in /usr/local/lib/python3.7/dist-packages (from maigret) (0.2.8)\n",
            "Requirement already satisfied: lxml==4.9.1 in /usr/local/lib/python3.7/dist-packages (from maigret) (4.9.1)\n",
            "Requirement already satisfied: mock==4.0.3 in /usr/local/lib/python3.7/dist-packages (from maigret) (4.0.3)\n",
            "Requirement already satisfied: six==1.16.0 in /usr/local/lib/python3.7/dist-packages (from maigret) (1.16.0)\n",
            "Requirement already satisfied: typing-extensions==4.3.0 in /usr/local/lib/python3.7/dist-packages (from maigret) (4.3.0)\n",
            "Requirement already satisfied: colorama==0.4.5 in /usr/local/lib/python3.7/dist-packages (from maigret) (0.4.5)\n",
            "Requirement already satisfied: Jinja2==3.1.2 in /usr/local/lib/python3.7/dist-packages (from maigret) (3.1.2)\n",
            "Requirement already satisfied: torrequest==0.1.0 in /usr/local/lib/python3.7/dist-packages (from maigret) (0.1.0)\n",
            "Requirement already satisfied: webencodings==0.5.1 in /usr/local/lib/python3.7/dist-packages (from maigret) (0.5.1)\n",
            "Requirement already satisfied: pycares>=4.0.0 in /usr/local/lib/python3.7/dist-packages (from aiodns==3.0.0->maigret) (4.2.2)\n",
            "Requirement already satisfied: aiosignal>=1.1.2 in /usr/local/lib/python3.7/dist-packages (from aiohttp==3.8.1->maigret) (1.3.1)\n",
            "Requirement already satisfied: frozenlist>=1.1.1 in /usr/local/lib/python3.7/dist-packages (from aiohttp==3.8.1->maigret) (1.3.3)\n",
            "Requirement already satisfied: charset-normalizer<3.0,>=2.0 in /usr/local/lib/python3.7/dist-packages (from aiohttp==3.8.1->maigret) (2.1.1)\n",
            "Requirement already satisfied: asynctest==0.13.0 in /usr/local/lib/python3.7/dist-packages (from aiohttp==3.8.1->maigret) (0.13.0)\n",
            "Requirement already satisfied: python-socks[asyncio]<3.0.0,>=2.0.0 in /usr/local/lib/python3.7/dist-packages (from aiohttp-socks==0.7.1->maigret) (2.0.3)\n",
            "Requirement already satisfied: setuptools in /usr/local/lib/python3.7/dist-packages (from arabic-reshaper==2.1.3->maigret) (57.4.0)\n",
            "Requirement already satisfied: pyparsing>=2.4.7 in /usr/local/lib/python3.7/dist-packages (from cloudscraper==1.2.64->maigret) (3.0.9)\n",
            "Requirement already satisfied: requests-toolbelt>=0.9.1 in /usr/local/lib/python3.7/dist-packages (from cloudscraper==1.2.64->maigret) (0.10.1)\n",
            "Requirement already satisfied: tokenize-rt>=3 in /usr/local/lib/python3.7/dist-packages (from future-annotations==1.0.0->maigret) (5.0.0)\n",
            "Requirement already satisfied: decorator<5,>=4.3 in /usr/local/lib/python3.7/dist-packages (from networkx==2.5.1->maigret) (4.4.2)\n",
            "Requirement already satisfied: ipython>=5.3.0 in /usr/local/lib/python3.7/dist-packages (from pyvis==0.2.1->maigret) (7.9.0)\n",
            "Requirement already satisfied: jsonpickle>=1.4.1 in /usr/local/lib/python3.7/dist-packages (from pyvis==0.2.1->maigret) (2.2.0)\n",
            "Requirement already satisfied: pillow>=9.0.0 in /usr/local/lib/python3.7/dist-packages (from reportlab==3.6.11->maigret) (9.3.0)\n",
            "Requirement already satisfied: urllib3<1.27,>=1.21.1 in /usr/local/lib/python3.7/dist-packages (from requests==2.28.1->maigret) (1.24.3)\n",
            "Requirement already satisfied: PyPDF3>=1.0.5 in /usr/local/lib/python3.7/dist-packages (from xhtml2pdf==0.2.8->maigret) (1.0.6)\n",
            "Requirement already satisfied: pyHanko>=0.12.1 in /usr/local/lib/python3.7/dist-packages (from xhtml2pdf==0.2.8->maigret) (0.15.1)\n",
            "Requirement already satisfied: pyhanko-certvalidator>=0.19.5 in /usr/local/lib/python3.7/dist-packages (from xhtml2pdf==0.2.8->maigret) (0.19.6)\n",
            "Requirement already satisfied: svglib>=1.2.1 in /usr/local/lib/python3.7/dist-packages (from xhtml2pdf==0.2.8->maigret) (1.4.1)\n",
            "Requirement already satisfied: traitlets>=4.2 in /usr/local/lib/python3.7/dist-packages (from ipython>=5.3.0->pyvis==0.2.1->maigret) (5.1.1)\n",
            "Requirement already satisfied: pickleshare in /usr/local/lib/python3.7/dist-packages (from ipython>=5.3.0->pyvis==0.2.1->maigret) (0.7.5)\n",
            "Requirement already satisfied: pexpect in /usr/local/lib/python3.7/dist-packages (from ipython>=5.3.0->pyvis==0.2.1->maigret) (4.8.0)\n",
            "Requirement already satisfied: backcall in /usr/local/lib/python3.7/dist-packages (from ipython>=5.3.0->pyvis==0.2.1->maigret) (0.2.0)\n",
            "Requirement already satisfied: prompt-toolkit<2.1.0,>=2.0.0 in /usr/local/lib/python3.7/dist-packages (from ipython>=5.3.0->pyvis==0.2.1->maigret) (2.0.10)\n",
            "Requirement already satisfied: pygments in /usr/local/lib/python3.7/dist-packages (from ipython>=5.3.0->pyvis==0.2.1->maigret) (2.6.1)\n",
            "Requirement already satisfied: jedi>=0.10 in /usr/local/lib/python3.7/dist-packages (from ipython>=5.3.0->pyvis==0.2.1->maigret) (0.18.2)\n",
            "Requirement already satisfied: parso<0.9.0,>=0.8.0 in /usr/local/lib/python3.7/dist-packages (from jedi>=0.10->ipython>=5.3.0->pyvis==0.2.1->maigret) (0.8.3)\n",
            "Requirement already satisfied: importlib-metadata in /usr/local/lib/python3.7/dist-packages (from jsonpickle>=1.4.1->pyvis==0.2.1->maigret) (4.13.0)\n",
            "Requirement already satisfied: wcwidth in /usr/local/lib/python3.7/dist-packages (from prompt-toolkit<2.1.0,>=2.0.0->ipython>=5.3.0->pyvis==0.2.1->maigret) (0.2.5)\n",
            "Requirement already satisfied: cffi>=1.5.0 in /usr/local/lib/python3.7/dist-packages (from pycares>=4.0.0->aiodns==3.0.0->maigret) (1.15.1)\n",
            "Requirement already satisfied: pycparser in /usr/local/lib/python3.7/dist-packages (from cffi>=1.5.0->pycares>=4.0.0->aiodns==3.0.0->maigret) (2.21)\n",
            "Requirement already satisfied: pyyaml>=5.3.1 in /usr/local/lib/python3.7/dist-packages (from pyHanko>=0.12.1->xhtml2pdf==0.2.8->maigret) (6.0)\n",
            "Requirement already satisfied: cryptography>=3.3.1 in /usr/local/lib/python3.7/dist-packages (from pyHanko>=0.12.1->xhtml2pdf==0.2.8->maigret) (38.0.3)\n",
            "Requirement already satisfied: asn1crypto>=1.5.1 in /usr/local/lib/python3.7/dist-packages (from pyHanko>=0.12.1->xhtml2pdf==0.2.8->maigret) (1.5.1)\n",
            "Requirement already satisfied: tzlocal>=2.1 in /usr/local/lib/python3.7/dist-packages (from pyHanko>=0.12.1->xhtml2pdf==0.2.8->maigret) (4.2)\n",
            "Requirement already satisfied: click>=7.1.2 in /usr/local/lib/python3.7/dist-packages (from pyHanko>=0.12.1->xhtml2pdf==0.2.8->maigret) (7.1.2)\n",
            "Requirement already satisfied: pytz>=2020.1 in /usr/local/lib/python3.7/dist-packages (from pyHanko>=0.12.1->xhtml2pdf==0.2.8->maigret) (2022.6)\n",
            "Requirement already satisfied: qrcode>=6.1 in /usr/local/lib/python3.7/dist-packages (from pyHanko>=0.12.1->xhtml2pdf==0.2.8->maigret) (7.3.1)\n",
            "Requirement already satisfied: uritools>=3.0.1 in /usr/local/lib/python3.7/dist-packages (from pyhanko-certvalidator>=0.19.5->xhtml2pdf==0.2.8->maigret) (4.0.0)\n",
            "Requirement already satisfied: oscrypto>=1.1.0 in /usr/local/lib/python3.7/dist-packages (from pyhanko-certvalidator>=0.19.5->xhtml2pdf==0.2.8->maigret) (1.3.0)\n",
            "Requirement already satisfied: beautifulsoup4~=4.10.0 in /usr/local/lib/python3.7/dist-packages (from socid-extractor>=0.0.21->maigret) (4.10.0)\n",
            "Requirement already satisfied: python-dateutil>=2.8.1 in /usr/local/lib/python3.7/dist-packages (from socid-extractor>=0.0.21->maigret) (2.8.2)\n",
            "Requirement already satisfied: tinycss2>=0.6.0 in /usr/local/lib/python3.7/dist-packages (from svglib>=1.2.1->xhtml2pdf==0.2.8->maigret) (1.2.1)\n",
            "Requirement already satisfied: cssselect2>=0.2.0 in /usr/local/lib/python3.7/dist-packages (from svglib>=1.2.1->xhtml2pdf==0.2.8->maigret) (0.7.0)\n",
            "Requirement already satisfied: backports.zoneinfo in /usr/local/lib/python3.7/dist-packages (from tzlocal>=2.1->pyHanko>=0.12.1->xhtml2pdf==0.2.8->maigret) (0.2.1)\n",
            "Requirement already satisfied: pytz-deprecation-shim in /usr/local/lib/python3.7/dist-packages (from tzlocal>=2.1->pyHanko>=0.12.1->xhtml2pdf==0.2.8->maigret) (0.1.0.post0)\n",
            "Requirement already satisfied: zipp>=0.5 in /usr/local/lib/python3.7/dist-packages (from importlib-metadata->jsonpickle>=1.4.1->pyvis==0.2.1->maigret) (3.10.0)\n",
            "Requirement already satisfied: ptyprocess>=0.5 in /usr/local/lib/python3.7/dist-packages (from pexpect->ipython>=5.3.0->pyvis==0.2.1->maigret) (0.7.0)\n",
            "Requirement already satisfied: tzdata in /usr/local/lib/python3.7/dist-packages (from pytz-deprecation-shim->tzlocal>=2.1->pyHanko>=0.12.1->xhtml2pdf==0.2.8->maigret) (2022.6)\n"
          ]
        }
      ],
      "source": [
        "!pip install maigret"
      ]
    }
  ]
}